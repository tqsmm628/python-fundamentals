{
 "cells": [
  {
   "attachments": {},
   "cell_type": "markdown",
   "metadata": {},
   "source": [
    "# Create a class from components using the `type()` function."
   ]
  },
  {
   "cell_type": "code",
   "execution_count": 1,
   "metadata": {},
   "outputs": [
    {
     "name": "stdout",
     "output_type": "stream",
     "text": [
      "9.99\n",
      "9.99\n"
     ]
    }
   ],
   "source": [
    "class Price:\n",
    "    def __init__(self, part_number, price):\n",
    "        self.part_number = part_number\n",
    "        self.price = price\n",
    "    \n",
    "    def get_price(self):\n",
    "        return self.price\n",
    "\n",
    "p = Price('ABC123', 9.99)\n",
    "print(p.price)\n",
    "print(p.get_price())"
   ]
  },
  {
   "cell_type": "code",
   "execution_count": 2,
   "metadata": {},
   "outputs": [],
   "source": [
    "def function__init__(self, part_number, price):\n",
    "    self.part_number = part_number\n",
    "    self.price = price\n",
    "\n",
    "def function_get_price(self):\n",
    "    return self.price"
   ]
  },
  {
   "cell_type": "code",
   "execution_count": 3,
   "metadata": {},
   "outputs": [],
   "source": [
    "namespace = {\n",
    "    \"__init__\": function__init__,\n",
    "    \"get_price\": function_get_price\n",
    "}"
   ]
  },
  {
   "cell_type": "code",
   "execution_count": 4,
   "metadata": {},
   "outputs": [
    {
     "name": "stdout",
     "output_type": "stream",
     "text": [
      "9.99\n",
      "9.99\n"
     ]
    }
   ],
   "source": [
    "Price2 = type('Price2', (), namespace)\n",
    "\n",
    "p = Price2('ABC123', 9.99)\n",
    "print(p.price)\n",
    "print(p.get_price())"
   ]
  }
 ],
 "metadata": {
  "kernelspec": {
   "display_name": "Python 3",
   "language": "python",
   "name": "python3"
  },
  "language_info": {
   "codemirror_mode": {
    "name": "ipython",
    "version": 3
   },
   "file_extension": ".py",
   "mimetype": "text/x-python",
   "name": "python",
   "nbconvert_exporter": "python",
   "pygments_lexer": "ipython3",
   "version": "3.11.0"
  },
  "orig_nbformat": 4
 },
 "nbformat": 4,
 "nbformat_minor": 2
}
