{
 "cells": [
  {
   "cell_type": "markdown",
   "source": [
    "# Iteration Protocol and Creating an Iterable"
   ],
   "metadata": {
    "collapsed": false
   }
  },
  {
   "cell_type": "code",
   "execution_count": 5,
   "outputs": [
    {
     "name": "stdout",
     "output_type": "stream",
     "text": [
      "0\n",
      "1\n",
      "2\n",
      "3\n",
      "4\n",
      "1\n"
     ]
    }
   ],
   "source": [
    "class Count:\n",
    "    def __init__(self, limit):\n",
    "        self.limit = limit\n",
    "\n",
    "    def __getitem__(self, index):\n",
    "        if index < self.limit:\n",
    "            return index\n",
    "        raise IndexError\n",
    "\n",
    "for i in Count(5):\n",
    "    print(i)\n",
    "\n",
    "counter = Count(10)\n",
    "print(counter[1])"
   ],
   "metadata": {
    "collapsed": false,
    "ExecuteTime": {
     "start_time": "2023-04-28T01:48:41.355046Z",
     "end_time": "2023-04-28T01:48:41.369494Z"
    }
   }
  },
  {
   "cell_type": "code",
   "execution_count": 16,
   "outputs": [
    {
     "name": "stdout",
     "output_type": "stream",
     "text": [
      "1\n"
     ]
    }
   ],
   "source": [
    "class Fibonacci:\n",
    "    def __init__(self, limit):\n",
    "        self.limit = limit\n",
    "        self.last = 1\n",
    "        self.current = 1\n",
    "\n",
    "    def __getitem__(self, index):\n",
    "        if index < self.limit:\n",
    "            result, self.last, self.current = self.last, self.current, self.last + self.current\n",
    "            return result\n",
    "        else:\n",
    "            raise IndexError\n",
    "\n",
    "for fib in Fibonacci(10):\n",
    "    print(fib)\n"
   ],
   "metadata": {
    "collapsed": false,
    "ExecuteTime": {
     "start_time": "2023-04-28T02:00:23.702550Z",
     "end_time": "2023-04-28T02:00:23.704205Z"
    }
   }
  }
 ],
 "metadata": {
  "kernelspec": {
   "display_name": "Python 3",
   "language": "python",
   "name": "python3"
  },
  "language_info": {
   "codemirror_mode": {
    "name": "ipython",
    "version": 2
   },
   "file_extension": ".py",
   "mimetype": "text/x-python",
   "name": "python",
   "nbconvert_exporter": "python",
   "pygments_lexer": "ipython2",
   "version": "2.7.6"
  }
 },
 "nbformat": 4,
 "nbformat_minor": 0
}
