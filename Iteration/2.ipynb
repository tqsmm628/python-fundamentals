{
 "cells": [
  {
   "cell_type": "markdown",
   "source": [
    "# Creating an Iterator and Using a Generator Function"
   ],
   "metadata": {
    "collapsed": false
   }
  },
  {
   "cell_type": "code",
   "execution_count": 3,
   "outputs": [
    {
     "name": "stdout",
     "output_type": "stream",
     "text": [
      "0\n",
      "1\n",
      "2\n",
      "3\n",
      "4\n"
     ]
    }
   ],
   "source": [
    "class CountIterator:\n",
    "    def __init__(self, limit):\n",
    "        self.limit = limit\n",
    "        self.count = 0\n",
    "\n",
    "    def __next__(self):\n",
    "        if self.count < self.limit:\n",
    "            value = self.count\n",
    "            self.count += 1\n",
    "            return value\n",
    "        else:\n",
    "            raise StopIteration\n",
    "\n",
    "    def __iter__(self):\n",
    "        return self\n",
    "\n",
    "for i in CountIterator(5):\n",
    "    print(i)"
   ],
   "metadata": {
    "collapsed": false,
    "ExecuteTime": {
     "start_time": "2023-04-28T02:21:12.828646Z",
     "end_time": "2023-04-28T02:21:12.831806Z"
    }
   }
  },
  {
   "cell_type": "code",
   "execution_count": 6,
   "outputs": [
    {
     "name": "stdout",
     "output_type": "stream",
     "text": [
      "1\n",
      "1\n",
      "2\n",
      "3\n",
      "5\n",
      "8\n"
     ]
    }
   ],
   "source": [
    "class FibonacciIterator:\n",
    "    def __init__(self, limit):\n",
    "        self.count = 0\n",
    "        self.limit = limit\n",
    "        self.current = 1\n",
    "        self.last = 1\n",
    "\n",
    "    def __iter__(self):\n",
    "        return self\n",
    "\n",
    "    def __next__(self):\n",
    "        if self.count < self.limit:\n",
    "            result, self.last, self.current = \\\n",
    "                self.last, self.current, \\\n",
    "                    self.last + self.current\n",
    "            return result\n",
    "        else:\n",
    "            raise StopIteration\n",
    "\n",
    "fib = iter(FibonacciIterator(10))\n",
    "print(next(fib))\n",
    "print(next(fib))\n",
    "print(next(fib))\n",
    "print(next(fib))\n",
    "print(next(fib))\n",
    "print(next(fib))"
   ],
   "metadata": {
    "collapsed": false,
    "ExecuteTime": {
     "start_time": "2023-04-28T02:28:17.099431Z",
     "end_time": "2023-04-28T02:28:17.110059Z"
    }
   }
  },
  {
   "cell_type": "code",
   "execution_count": 7,
   "outputs": [
    {
     "name": "stdout",
     "output_type": "stream",
     "text": [
      "1\n",
      "1\n",
      "2\n",
      "3\n",
      "5\n"
     ]
    }
   ],
   "source": [
    "def FibonacciGenerator(limit):\n",
    "    count = 0\n",
    "    a, b = 1, 1\n",
    "    while count < limit:\n",
    "        yield a\n",
    "        count += 1\n",
    "        a, b = b, a + b\n",
    "\n",
    "for i in FibonacciGenerator(5):\n",
    "    print(i)"
   ],
   "metadata": {
    "collapsed": false,
    "ExecuteTime": {
     "start_time": "2023-04-28T02:29:56.297586Z",
     "end_time": "2023-04-28T02:29:56.299788Z"
    }
   }
  }
 ],
 "metadata": {
  "kernelspec": {
   "display_name": "Python 3",
   "language": "python",
   "name": "python3"
  },
  "language_info": {
   "codemirror_mode": {
    "name": "ipython",
    "version": 2
   },
   "file_extension": ".py",
   "mimetype": "text/x-python",
   "name": "python",
   "nbconvert_exporter": "python",
   "pygments_lexer": "ipython2",
   "version": "2.7.6"
  }
 },
 "nbformat": 4,
 "nbformat_minor": 0
}
