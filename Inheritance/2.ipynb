{
 "cells": [
  {
   "attachments": {},
   "cell_type": "markdown",
   "metadata": {},
   "source": [
    "# Inheriting from More Than One Class at Once - Mixins"
   ]
  },
  {
   "cell_type": "code",
   "execution_count": 9,
   "metadata": {
    "ExecuteTime": {
     "start_time": "2023-04-28T00:47:46.153863Z",
     "end_time": "2023-04-28T00:47:46.155810Z"
    }
   },
   "outputs": [],
   "source": [
    "class Animal:\n",
    "    def __init__(self, name):\n",
    "        self.name = name\n",
    "    \n",
    "    def __repr__(self):\n",
    "        return f\"{type(self).__name__}({self.name})\"\n",
    "\n",
    "class CanSwim:\n",
    "    def swim(self, distance):\n",
    "        print(f\"{self.name} swimming at depth of {distance} feet.\")\n",
    "\n",
    "class CanHop:\n",
    "    def hop(self):\n",
    "        print(f\"{self.name} hopping.\")\n",
    "\n",
    "class CanFly:\n",
    "    def fly(self):\n",
    "        print(f\"{self.name} flying.\")\n",
    "\n",
    "class CanWalk:\n",
    "    def walk(self):\n",
    "        print(f\"{self.name} walking.\")\n",
    "\n",
    "class Mammal(Animal):\n",
    "    pass\n",
    "\n",
    "class Wolf(Mammal, CanWalk):\n",
    "    pass\n",
    "\n",
    "class Bear(Mammal):\n",
    "    pass\n",
    "\n",
    "class Bird(Animal, CanFly):\n",
    "    pass\n",
    "\n",
    "class Eagle(Bird):\n",
    "    pass\n",
    "\n",
    "class Duck(Bird, CanFly, CanSwim, CanWalk):\n",
    "    pass\n",
    "\n",
    "class Aquatic(Animal, CanSwim):\n",
    "    pass\n",
    "\n",
    "class Frog(Aquatic, CanHop):\n",
    "    pass\n",
    "\n",
    "class Trout(Aquatic):\n",
    "    pass"
   ]
  },
  {
   "cell_type": "code",
   "execution_count": 8,
   "metadata": {
    "ExecuteTime": {
     "start_time": "2023-04-28T00:47:43.653642Z",
     "end_time": "2023-04-28T00:47:43.655841Z"
    }
   },
   "outputs": [
    {
     "name": "stdout",
     "output_type": "stream",
     "text": [
      "Donald swimming at depth of 10 feet.\n",
      "Donald walking.\n",
      "Donald flying.\n",
      "Kermit swimming at depth of 5 feet.\n",
      "Kermit hopping.\n",
      "Grey walking.\n",
      "Rainbow swimming at depth of 2 feet.\n",
      "Baldy flying.\n"
     ]
    }
   ],
   "source": [
    "# 創建一個鴨子實例，並讓它游泳、行走和飛行\n",
    "duck = Duck('Donald')\n",
    "duck.swim(10)\n",
    "duck.walk()\n",
    "duck.fly()\n",
    "\n",
    "# 創建一個青蛙實例，並讓它游泳和跳躍\n",
    "frog = Frog('Kermit')\n",
    "frog.swim(5)\n",
    "frog.hop()\n",
    "\n",
    "# 創建一個狼實例，並讓它行走\n",
    "wolf = Wolf('Grey')\n",
    "wolf.walk()\n",
    "\n",
    "# 創建一個鱒魚實例，並讓它游泳\n",
    "trout = Trout('Rainbow')\n",
    "trout.swim(2)\n",
    "\n",
    "# 創建一個鷹實例，並讓它飛行\n",
    "eagle = Eagle('Baldy')\n",
    "eagle.fly()"
   ]
  }
 ],
 "metadata": {
  "kernelspec": {
   "display_name": "Python 3",
   "language": "python",
   "name": "python3"
  },
  "language_info": {
   "codemirror_mode": {
    "name": "ipython",
    "version": 3
   },
   "file_extension": ".py",
   "mimetype": "text/x-python",
   "name": "python",
   "nbconvert_exporter": "python",
   "pygments_lexer": "ipython3",
   "version": "3.11.0"
  },
  "orig_nbformat": 4
 },
 "nbformat": 4,
 "nbformat_minor": 2
}
