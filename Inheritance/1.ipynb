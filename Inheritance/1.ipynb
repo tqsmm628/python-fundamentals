{
 "cells": [
  {
   "attachments": {},
   "cell_type": "markdown",
   "metadata": {},
   "source": [
    "# Inheriting from Another Class"
   ]
  },
  {
   "cell_type": "code",
   "execution_count": 2,
   "metadata": {},
   "outputs": [],
   "source": [
    "class Animal:\n",
    "    def __init__(self, name):\n",
    "        self.name = name\n",
    "    \n",
    "    def __repr__(self):\n",
    "        return f\"{type(self).__name__}({self.name})\""
   ]
  },
  {
   "cell_type": "code",
   "execution_count": 6,
   "metadata": {},
   "outputs": [
    {
     "name": "stdout",
     "output_type": "stream",
     "text": [
      "fish swimming at depth of 2 feet.\n",
      "Trout(fish)\n"
     ]
    }
   ],
   "source": [
    "class Mammal(Animal):\n",
    "    pass\n",
    "\n",
    "class Wolf(Mammal):\n",
    "    pass\n",
    "\n",
    "class Bear(Mammal):\n",
    "    pass\n",
    "\n",
    "class Bird(Animal):\n",
    "    pass\n",
    "\n",
    "class Eagle(Bird):\n",
    "    pass\n",
    "\n",
    "class Duck(Bird):\n",
    "    pass\n",
    "\n",
    "class Aquatic(Animal):\n",
    "    def swim(self, distance):\n",
    "        print(f\"{self.name} swimming at depth of {distance} feet.\")\n",
    "\n",
    "class Frog(Aquatic):\n",
    "    pass\n",
    "\n",
    "class Trout(Aquatic):\n",
    "    pass\n",
    "\n",
    "fish = Trout('fish')\n",
    "fish.swim(2)"
   ]
  }
 ],
 "metadata": {
  "kernelspec": {
   "display_name": "Python 3",
   "language": "python",
   "name": "python3"
  },
  "language_info": {
   "codemirror_mode": {
    "name": "ipython",
    "version": 3
   },
   "file_extension": ".py",
   "mimetype": "text/x-python",
   "name": "python",
   "nbconvert_exporter": "python",
   "pygments_lexer": "ipython3",
   "version": "3.11.0"
  },
  "orig_nbformat": 4
 },
 "nbformat": 4,
 "nbformat_minor": 2
}
