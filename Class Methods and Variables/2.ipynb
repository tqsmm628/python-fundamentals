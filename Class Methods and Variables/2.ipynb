{
 "cells": [
  {
   "attachments": {},
   "cell_type": "markdown",
   "metadata": {},
   "source": [
    "# Learn how to access and change class attributes from instance methods in a flexible way using class methods."
   ]
  },
  {
   "cell_type": "code",
   "execution_count": 2,
   "metadata": {},
   "outputs": [],
   "source": [
    "class Connection:\n",
    "    port = 55000\n",
    "    conn_limit = 10\n",
    "    connections = []\n",
    "    \n",
    "    def __init__(self, host):\n",
    "        self.host = host\n",
    "        self.port = Connection.port + len(Connection.connections)\n",
    "        if len(Connection.connections) < Connection.conn_limit:\n",
    "            Connection.connections.append(self)\n",
    "\n",
    "    def close(self):\n",
    "        Connection.connections.remove(self)\n",
    "    \n",
    "    def __repr__(self):\n",
    "        return f\"{self.host}, {self.port}\""
   ]
  },
  {
   "cell_type": "code",
   "execution_count": 5,
   "metadata": {},
   "outputs": [],
   "source": [
    "class Connection:\n",
    "    port = 55000\n",
    "    conn_limit = 10\n",
    "    connections = []\n",
    "    \n",
    "    def __init__(self, host):\n",
    "        self.host = host\n",
    "        self.port = self.__class__.port + len(self.__class__.connections)\n",
    "        if len(self.__class__.connections) < self.__class__.conn_limit:\n",
    "            self.__class__.connections.append(self)\n",
    "\n",
    "    def close(self):\n",
    "        self.__class__.connections.remove(self)\n",
    "    \n",
    "    def __repr__(self):\n",
    "        return f\"{self.host}, {self.port}\""
   ]
  },
  {
   "cell_type": "code",
   "execution_count": 6,
   "metadata": {},
   "outputs": [],
   "source": [
    "class Connection:\n",
    "    port = 55000\n",
    "    conn_limit = 10\n",
    "    connections = []\n",
    "    \n",
    "    def __init__(self, host):\n",
    "        self.host = host\n",
    "        self.port = self.__class__.get_next_port()\n",
    "        self.__class__.add_connection(self)\n",
    "\n",
    "    def close(self):\n",
    "        self.__class__.remove_connection(self)\n",
    "    \n",
    "    def __repr__(self):\n",
    "        return f\"{self.host}, {self.port}\"\n",
    "    \n",
    "    @classmethod\n",
    "    def get_next_port(cls):\n",
    "        return cls.port + len(cls.connections)\n",
    "    \n",
    "    @classmethod\n",
    "    def get_connection_count(cls):\n",
    "        return len(cls.connections)\n",
    "    \n",
    "    @classmethod\n",
    "    def add_connection(cls, connection):\n",
    "        if cls.get_connection_count() < cls.conn_limit:\n",
    "            cls.connections.append(connection)\n",
    "    \n",
    "    @classmethod\n",
    "    def remove_connection(cls, connection):\n",
    "        cls.connections.remove(connection)"
   ]
  }
 ],
 "metadata": {
  "kernelspec": {
   "display_name": "Python 3",
   "language": "python",
   "name": "python3"
  },
  "language_info": {
   "codemirror_mode": {
    "name": "ipython",
    "version": 3
   },
   "file_extension": ".py",
   "mimetype": "text/x-python",
   "name": "python",
   "nbconvert_exporter": "python",
   "pygments_lexer": "ipython3",
   "version": "3.11.0"
  },
  "orig_nbformat": 4
 },
 "nbformat": 4,
 "nbformat_minor": 2
}
