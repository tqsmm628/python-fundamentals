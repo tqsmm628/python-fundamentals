{
 "cells": [
  {
   "attachments": {},
   "cell_type": "markdown",
   "metadata": {},
   "source": [
    "__Importance to project__\n",
    "\n",
    "- This milestone will help you understand the difference between accessing a class attribute and an instance attribute.\n",
    "- You will also learn the difference between modifying a mutable and an immutable class attribute."
   ]
  },
  {
   "cell_type": "code",
   "execution_count": 5,
   "metadata": {},
   "outputs": [
    {
     "name": "stdout",
     "output_type": "stream",
     "text": [
      "localhost 55000 1\n",
      "0\n",
      "localhost, 55000\n"
     ]
    }
   ],
   "source": [
    "class Connection:\n",
    "    port = 55000\n",
    "    conn_limit = 10\n",
    "    conn_count = 0\n",
    "    \n",
    "    def __init__(self, host):\n",
    "        self.host = host\n",
    "        self.port = self.__class__.port\n",
    "        self.__class__.conn_count += 1\n",
    "\n",
    "    def close(self):\n",
    "        self.__class__.conn_count -= 1\n",
    "    \n",
    "    def __repr__(self):\n",
    "        return f\"{self.host}, {self.port}\"\n",
    "\n",
    "conn = Connection('localhost')\n",
    "print(conn.host, conn.port, Connection.conn_count)\n",
    "conn.close()\n",
    "print(Connection.conn_count)\n",
    "print(conn)"
   ]
  },
  {
   "cell_type": "code",
   "execution_count": 4,
   "metadata": {},
   "outputs": [
    {
     "name": "stdout",
     "output_type": "stream",
     "text": [
      "{'__module__': '__main__', 'port': 55000, 'conn_limit': 10, 'conn_count': 0, '__init__': <function Connection.__init__ at 0x00000287718160C0>, 'close': <function Connection.close at 0x0000028771816200>, '__dict__': <attribute '__dict__' of 'Connection' objects>, '__weakref__': <attribute '__weakref__' of 'Connection' objects>, '__doc__': None}\n",
      "{'host': 'localhost', 'port': 55000}\n"
     ]
    }
   ],
   "source": [
    "print(Connection.__dict__)\n",
    "print(conn.__dict__)"
   ]
  },
  {
   "cell_type": "code",
   "execution_count": 9,
   "metadata": {},
   "outputs": [
    {
     "name": "stdout",
     "output_type": "stream",
     "text": [
      "[localhost, 55000]\n",
      "[]\n"
     ]
    }
   ],
   "source": [
    "class Connection:\n",
    "    port = 55000\n",
    "    conn_limit = 10\n",
    "    connections = []\n",
    "    \n",
    "    def __init__(self, host):\n",
    "        self.host = host\n",
    "        self.port = self.__class__.port\n",
    "        self.__class__.connections.append(self)\n",
    "\n",
    "    def close(self):\n",
    "        self.__class__.connections.remove(self)\n",
    "    \n",
    "    def __repr__(self):\n",
    "        return f\"{self.host}, {self.port}\"\n",
    "\n",
    "conn2 = Connection(\"localhost\")\n",
    "print(Connection.connections)\n",
    "conn2.close()\n",
    "print(Connection.connections)"
   ]
  }
 ],
 "metadata": {
  "kernelspec": {
   "display_name": "Python 3",
   "language": "python",
   "name": "python3"
  },
  "language_info": {
   "codemirror_mode": {
    "name": "ipython",
    "version": 3
   },
   "file_extension": ".py",
   "mimetype": "text/x-python",
   "name": "python",
   "nbconvert_exporter": "python",
   "pygments_lexer": "ipython3",
   "version": "3.11.0"
  },
  "orig_nbformat": 4
 },
 "nbformat": 4,
 "nbformat_minor": 2
}
