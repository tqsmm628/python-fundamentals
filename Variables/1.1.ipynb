{
 "cells": [
  {
   "cell_type": "code",
   "execution_count": 1,
   "metadata": {
    "collapsed": true,
    "ExecuteTime": {
     "start_time": "2023-04-26T23:02:03.728036Z",
     "end_time": "2023-04-26T23:02:03.732155Z"
    }
   },
   "outputs": [
    {
     "name": "stdout",
     "output_type": "stream",
     "text": [
      "10\n",
      "5\n",
      "2.71\n",
      "3.14\n",
      "world\n",
      "hello\n",
      "[1, 5, 3]\n",
      "[1, 5, 3]\n",
      "[1, 5, 3]\n",
      "[4, 5, 6]\n",
      "(1, 2, 3)\n",
      "(4, 5, 6)\n",
      "{'name': 'Bob', 'age': 30}\n",
      "{'name': 'Bob', 'age': 30}\n",
      "{'name': 'Bob', 'age': 30}\n",
      "{'name': 'Charlie', 'age': 25}\n"
     ]
    }
   ],
   "source": [
    "# Example for integer type (int)\n",
    "x = 5\n",
    "y = x\n",
    "x = 10\n",
    "print(x)  # Output: 10\n",
    "print(y)  # Output: 5\n",
    "\n",
    "# Example for floating-point type (float)\n",
    "x = 3.14\n",
    "y = x\n",
    "x = 2.71\n",
    "print(x)  # Output: 2.71\n",
    "print(y)  # Output: 3.14\n",
    "\n",
    "# Example for string type (str)\n",
    "x = \"hello\"\n",
    "y = x\n",
    "x = \"world\"\n",
    "print(x)  # Output: \"world\"\n",
    "print(y)  # Output: \"hello\"\n",
    "\n",
    "# Example for list type (list)\n",
    "my_list = [1, 2, 3]\n",
    "my_list_2 = my_list\n",
    "my_list[1] = 5\n",
    "print(my_list)      # Output: [1, 5, 3]\n",
    "print(my_list_2)    # Output: [1, 5, 3]\n",
    "my_list_2 = [4, 5, 6]\n",
    "print(my_list)      # Output: [1, 5, 3]\n",
    "print(my_list_2)    # Output: [4, 5, 6]\n",
    "\n",
    "# Example for tuple type (tuple)\n",
    "my_tuple = (1, 2, 3)\n",
    "my_tuple_2 = my_tuple\n",
    "# Trying to change an element in a tuple will raise an error\n",
    "# my_tuple[1] = 5      <-- this line will raise a TypeError\n",
    "my_tuple_2 = (4, 5, 6)\n",
    "print(my_tuple)      # Output: (1, 2, 3)\n",
    "print(my_tuple_2)    # Output: (4, 5, 6)\n",
    "\n",
    "# Example for dictionary type (dict)\n",
    "my_dict = {\"name\": \"Alice\", \"age\": 30}\n",
    "my_dict_2 = my_dict\n",
    "my_dict[\"name\"] = \"Bob\"\n",
    "print(my_dict)      # Output: {\"name\": \"Bob\", \"age\": 30}\n",
    "print(my_dict_2)    # Output: {\"name\": \"Bob\", \"age\": 30}\n",
    "my_dict_2 = {\"name\": \"Charlie\", \"age\": 25}\n",
    "print(my_dict)      # Output: {\"name\": \"Bob\", \"age\": 30}\n",
    "print(my_dict_2)    # Output: {\"name\": \"Charlie\", \"age\": 25}"
   ]
  }
 ],
 "metadata": {
  "kernelspec": {
   "display_name": "Python 3",
   "language": "python",
   "name": "python3"
  },
  "language_info": {
   "codemirror_mode": {
    "name": "ipython",
    "version": 2
   },
   "file_extension": ".py",
   "mimetype": "text/x-python",
   "name": "python",
   "nbconvert_exporter": "python",
   "pygments_lexer": "ipython2",
   "version": "2.7.6"
  }
 },
 "nbformat": 4,
 "nbformat_minor": 0
}
