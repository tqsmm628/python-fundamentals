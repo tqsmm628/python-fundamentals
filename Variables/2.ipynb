{
 "cells": [
  {
   "attachments": {},
   "cell_type": "markdown",
   "metadata": {},
   "source": [
    "# int"
   ]
  },
  {
   "cell_type": "code",
   "execution_count": 9,
   "metadata": {},
   "outputs": [
    {
     "name": "stdout",
     "output_type": "stream",
     "text": [
      "True\n",
      "False\n"
     ]
    }
   ],
   "source": [
    "x = 5\n",
    "y = x\n",
    "print(id(x) == id(y)) # True\n",
    "x = 10\n",
    "print(id(x) == id(y)) # False"
   ]
  },
  {
   "attachments": {},
   "cell_type": "markdown",
   "metadata": {},
   "source": [
    "# float"
   ]
  },
  {
   "cell_type": "code",
   "execution_count": 11,
   "metadata": {},
   "outputs": [
    {
     "name": "stdout",
     "output_type": "stream",
     "text": [
      "True\n",
      "False\n"
     ]
    }
   ],
   "source": [
    "x = 3.14\n",
    "y = x\n",
    "print(id(x) == id(y)) # True\n",
    "x = 2.71\n",
    "print(id(x) == id(y)) # False"
   ]
  },
  {
   "cell_type": "markdown",
   "metadata": {},
   "source": [
    "# string"
   ]
  },
  {
   "cell_type": "code",
   "execution_count": null,
   "metadata": {},
   "outputs": [],
   "source": [
    "x = \"hello\"\n",
    "y = x\n",
    "print(id(x) == id(y)) # True\n",
    "x = \"world\"\n",
    "print(id(x) == id(y)) # False"
   ]
  },
  {
   "attachments": {},
   "cell_type": "markdown",
   "metadata": {},
   "source": [
    "# list"
   ]
  },
  {
   "cell_type": "code",
   "execution_count": 16,
   "metadata": {},
   "outputs": [
    {
     "name": "stdout",
     "output_type": "stream",
     "text": [
      "True\n",
      "True\n",
      "False\n"
     ]
    }
   ],
   "source": [
    "my_list = [1, 2, 3]\n",
    "my_list_2 = my_list\n",
    "print(id(my_list) == id(my_list_2)) # True\n",
    "my_list[1] = 5\n",
    "print(id(my_list) == id(my_list_2)) # True\n",
    "my_list_2 = [4, 5, 6]\n",
    "print(id(my_list) == id(my_list_2)) # False"
   ]
  },
  {
   "attachments": {},
   "cell_type": "markdown",
   "metadata": {},
   "source": [
    "# tuple"
   ]
  },
  {
   "cell_type": "code",
   "execution_count": 17,
   "metadata": {},
   "outputs": [
    {
     "name": "stdout",
     "output_type": "stream",
     "text": [
      "True\n",
      "False\n"
     ]
    }
   ],
   "source": [
    "my_tuple = (1, 2, 3)\n",
    "my_tuple_2 = my_tuple\n",
    "print(id(my_tuple) == id(my_tuple_2)) # True\n",
    "# my_tuple[1] = 5      <-- this line will raise a TypeError\n",
    "my_tuple_2 = (4, 5, 6)\n",
    "print(id(my_tuple) == id(my_tuple_2)) # False"
   ]
  },
  {
   "attachments": {},
   "cell_type": "markdown",
   "metadata": {},
   "source": [
    "# dict"
   ]
  },
  {
   "cell_type": "code",
   "execution_count": 18,
   "metadata": {},
   "outputs": [
    {
     "name": "stdout",
     "output_type": "stream",
     "text": [
      "True\n",
      "True\n",
      "False\n"
     ]
    }
   ],
   "source": [
    "my_dict = {\"name\": \"Alice\", \"age\": 30}\n",
    "my_dict_2 = my_dict\n",
    "print(id(my_dict) == id(my_dict_2)) # True\n",
    "my_dict[\"name\"] = \"Bob\"\n",
    "print(id(my_dict) == id(my_dict_2)) #  True\n",
    "my_dict_2 = {\"name\": \"Charlie\", \"age\": 25}\n",
    "print(id(my_dict) == id(my_dict_2)) # False"
   ]
  },
  {
   "attachments": {},
   "cell_type": "markdown",
   "metadata": {},
   "source": [
    "In Python, when we assign a variable to a value, a new object is created and the variable is bound to that object. If we modify the contents of a mutable object (such as a list or dictionary), all variables that are bound to that object will reflect those changes, because they are all bound to the same object."
   ]
  }
 ],
 "metadata": {
  "kernelspec": {
   "display_name": "Python 3",
   "language": "python",
   "name": "python3"
  },
  "language_info": {
   "codemirror_mode": {
    "name": "ipython",
    "version": 3
   },
   "file_extension": ".py",
   "mimetype": "text/x-python",
   "name": "python",
   "nbconvert_exporter": "python",
   "pygments_lexer": "ipython3",
   "version": "3.11.0"
  },
  "orig_nbformat": 4
 },
 "nbformat": 4,
 "nbformat_minor": 2
}
