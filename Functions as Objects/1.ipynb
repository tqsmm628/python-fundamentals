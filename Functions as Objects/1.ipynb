{
 "cells": [
  {
   "attachments": {},
   "cell_type": "markdown",
   "metadata": {},
   "source": [
    "# Breaking Operations into Separate Functions\n"
   ]
  },
  {
   "cell_type": "code",
   "execution_count": 1,
   "metadata": {},
   "outputs": [],
   "source": [
    "products = [\n",
    "  [\"SKU\", \"description\", \"cost\", \"list_price\", \"units_in_stock\", \"target_margin\"],\n",
    "  [' 20776', 'Budget Device\\tMini\\n1000-pack', '$284.43', '$406.563', '673', '42.9%'],\n",
    "  [' 13508', 'Budget Widget\\tExtra Large\\n1000-pack', '$207.49', '$270.203', '461', '30.2%'],\n",
    "  [' 1261', 'Super Whatsit\\tMini\\nDozen', '$1,091.33', '$1,485.85', '368', '36.1%'],\n",
    "  [' 49367', 'Super Gizmo\\tExtra Large\\nGross', '$1,977.36', '$2,589.87', '2,585', '31.0%'],\n",
    "  [' 39655', 'Student Gadget\\tMini\\nGross', '$437.97', '$656.749', '4,452', '50.0%']\n",
    "]"
   ]
  },
  {
   "cell_type": "code",
   "execution_count": 2,
   "metadata": {},
   "outputs": [],
   "source": [
    "def get_sku(field: str):\n",
    "    return clean_spaces(field)\n",
    "\n",
    "def get_description(field: str):\n",
    "    return clean_whitespace(field)\n",
    "\n",
    "def get_currency(field: str):\n",
    "    return float(clean_commas(clean_currency(field)))\n",
    "\n",
    "def get_integer(field: str):\n",
    "    return int(clean_commas(field))\n",
    "\n",
    "def get_percent(field: str):\n",
    "    return float(clean_percent(field)) / 100\n",
    "    \n",
    "def clean_spaces(field: str):\n",
    "    return field.strip()\n",
    "\n",
    "def clean_whitespace(field: str):\n",
    "    return field.replace('\\t', ' ').replace('\\n', ' ')\n",
    "\n",
    "def clean_commas(field: str):\n",
    "    return field.replace(',', '')\n",
    "\n",
    "def clean_currency(field: str):\n",
    "    return field.replace('$', '')\n",
    "\n",
    "def clean_percent(field: str):\n",
    "    return field.replace('%', '')"
   ]
  },
  {
   "cell_type": "code",
   "execution_count": 3,
   "metadata": {},
   "outputs": [
    {
     "name": "stdout",
     "output_type": "stream",
     "text": [
      "SKU=20776\n",
      "description=Budget Device Mini 1000-pack\n",
      "cost=284.43\n",
      "list_price=406.563\n",
      "units_in_stock=673\n",
      "target_margin=0.429\n",
      "--------------------------------------------------\n",
      "SKU=13508\n",
      "description=Budget Widget Extra Large 1000-pack\n",
      "cost=207.49\n",
      "list_price=270.203\n",
      "units_in_stock=461\n",
      "target_margin=0.302\n",
      "--------------------------------------------------\n",
      "SKU=1261\n",
      "description=Super Whatsit Mini Dozen\n",
      "cost=1091.33\n",
      "list_price=1485.85\n",
      "units_in_stock=368\n",
      "target_margin=0.361\n",
      "--------------------------------------------------\n",
      "SKU=49367\n",
      "description=Super Gizmo Extra Large Gross\n",
      "cost=1977.36\n",
      "list_price=2589.87\n",
      "units_in_stock=2585\n",
      "target_margin=0.31\n",
      "--------------------------------------------------\n",
      "SKU=39655\n",
      "description=Student Gadget Mini Gross\n",
      "cost=437.97\n",
      "list_price=656.749\n",
      "units_in_stock=4452\n",
      "target_margin=0.5\n",
      "--------------------------------------------------\n"
     ]
    }
   ],
   "source": [
    "for p in products[1:]:\n",
    "    names = products[0]\n",
    "    print(f'{names[0]}={get_sku(p[0])}')\n",
    "    print(f'{names[1]}={get_description(p[1])}')\n",
    "    print(f'{names[2]}={get_currency(p[2])}')\n",
    "    print(f'{names[3]}={get_currency(p[3])}')\n",
    "    print(f'{names[4]}={get_integer(p[4])}')\n",
    "    print(f'{names[5]}={get_percent(p[5])}')\n",
    "    print('-' * 50)"
   ]
  }
 ],
 "metadata": {
  "kernelspec": {
   "display_name": "Python 3",
   "language": "python",
   "name": "python3"
  },
  "language_info": {
   "codemirror_mode": {
    "name": "ipython",
    "version": 3
   },
   "file_extension": ".py",
   "mimetype": "text/x-python",
   "name": "python",
   "nbconvert_exporter": "python",
   "pygments_lexer": "ipython3",
   "version": "3.11.0"
  },
  "orig_nbformat": 4
 },
 "nbformat": 4,
 "nbformat_minor": 2
}
